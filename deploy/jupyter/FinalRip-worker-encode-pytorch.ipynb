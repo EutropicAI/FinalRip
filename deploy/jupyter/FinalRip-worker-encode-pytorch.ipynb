{
 "cells": [
  {
   "cell_type": "code",
   "execution_count": null,
   "metadata": {
    "ExecuteTime": {
     "end_time": "2024-10-14T00:33:36.530074Z",
     "start_time": "2024-10-14T00:33:36.433328Z"
    }
   },
   "outputs": [],
   "source": [
    "!nvidia-smi"
   ]
  },
  {
   "cell_type": "code",
   "execution_count": null,
   "metadata": {},
   "outputs": [],
   "source": [
    "import subprocess\n",
    "import sys\n",
    "\n",
    "try:\n",
    "    subprocess.check_output('conda --version', stderr=subprocess.STDOUT, shell=True)\n",
    "    print(\"Conda is already installed.\")\n",
    "except subprocess.CalledProcessError:\n",
    "    print(\"Conda is not installed, installing condacolab...\")\n",
    "    !pip install -q condacolab\n",
    "    import condacolab\n",
    "    condacolab.install()"
   ]
  },
  {
   "cell_type": "code",
   "execution_count": null,
   "metadata": {
    "colab": {
     "base_uri": "https://localhost:8080/"
    },
    "collapsed": true,
    "id": "K-5--WXCX1Lb",
    "jupyter": {
     "outputs_hidden": true
    },
    "outputId": "53043cb3-f285-4d72-acbd-9154bc057d1e"
   },
   "outputs": [],
   "source": [
    "!conda install python=3.10.* -y\n",
    "!apt update && apt install -y libgl1-mesa-glx\n",
    "\n",
    "!conda install conda-forge::conda-libmamba-solver conda-forge::libmamba conda-forge::libmambapy conda-forge::libarchive --force -y\n",
    "\n",
    "# install vapoursynth\n",
    "!conda install conda-forge::vapoursynth=69 -y\n",
    "\n",
    "# install vapoursynth C++ plugins\n",
    "!conda install tongyuantongyu::vapoursynth-bestsource=5 -y\n",
    "!conda install tongyuantongyu::vapoursynth-fmtconv=30 -y\n",
    "\n",
    "# install vapoursynth python plugins\n",
    "!conda install tongyuantongyu::vapoursynth-mvsfunc=10.10 -y\n",
    "!conda install tongyuantongyu::vapoursynth-vsutil=0.8.0 -y\n",
    "!pip install git+https://github.com/HomeOfVapourSynthEvolution/havsfunc.git\n",
    "\n",
    "# install python packages\n",
    "!conda install conda-forge::numpy=1.26.4 -y\n",
    "!conda install fastai::opencv-python-headless=4.10.0.82 -y\n",
    "\n",
    "# install PyTorch\n",
    "!pip install torch==2.1.2 torchvision==0.16.2 torchaudio==2.1.2 --index-url https://download.pytorch.org/whl/cu118\n",
    "\n",
    "# install AI packages\n",
    "# !pip install ccrestoration\n"
   ]
  },
  {
   "cell_type": "code",
   "execution_count": null,
   "metadata": {
    "colab": {
     "base_uri": "https://localhost:8080/"
    },
    "collapsed": true,
    "id": "S_A8tfcobK89",
    "jupyter": {
     "outputs_hidden": true
    },
    "outputId": "9339c34e-b879-4898-d9ec-c1d170d53d60"
   },
   "outputs": [],
   "source": [
    "!wget -c https://go.dev/dl/go1.22.5.linux-amd64.tar.gz\n",
    "!tar -C /usr/local/ -xzf go1.22.5.linux-amd64.tar.gz\n",
    "!rm -rf go1.22.5.linux-amd64.tar.gz\n",
    "import os\n",
    "os.environ['PATH'] += \":/usr/local/go/bin\"\n",
    "!go version"
   ]
  },
  {
   "cell_type": "code",
   "execution_count": null,
   "metadata": {
    "colab": {
     "base_uri": "https://localhost:8080/"
    },
    "id": "vqgJnDiefPja",
    "outputId": "c2b97cfe-9fdf-48ca-ef67-1ec83f32a674"
   },
   "outputs": [],
   "source": [
    "!rm -rf FinalRip\n",
    "!git clone https://github.com/EutropicAI/FinalRip\n",
    "!cd FinalRip && make worker"
   ]
  },
  {
   "cell_type": "code",
   "execution_count": null,
   "metadata": {
    "colab": {
     "base_uri": "https://localhost:8080/"
    },
    "id": "5Fqq6PVwg4Lw",
    "outputId": "db266556-4830-4ec1-a1a3-e80c6b661874"
   },
   "outputs": [],
   "source": [
    "import os\n",
    "os.environ['FINALRIP_REMOTE_CONFIG_HOST'] = \"consul.homo.com\"\n",
    "\n",
    "!cd FinalRip && ./worker/worker encode"
   ]
  }
 ],
 "metadata": {
  "accelerator": "GPU",
  "colab": {
   "gpuType": "T4",
   "provenance": []
  },
  "kernelspec": {
   "display_name": "Python 3 (ipykernel)",
   "language": "python",
   "name": "python3"
  },
  "language_info": {
   "codemirror_mode": {
    "name": "ipython",
    "version": 3
   },
   "file_extension": ".py",
   "mimetype": "text/x-python",
   "name": "python",
   "nbconvert_exporter": "python",
   "pygments_lexer": "ipython3",
   "version": "3.11.9"
  }
 },
 "nbformat": 4,
 "nbformat_minor": 4
}
