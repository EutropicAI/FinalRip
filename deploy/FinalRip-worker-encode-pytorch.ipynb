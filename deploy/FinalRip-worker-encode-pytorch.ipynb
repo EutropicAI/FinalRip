{
 "nbformat": 4,
 "nbformat_minor": 0,
 "metadata": {
  "colab": {
   "provenance": [],
   "gpuType": "T4"
  },
  "kernelspec": {
   "name": "python3",
   "display_name": "Python 3"
  },
  "language_info": {
   "name": "python"
  },
  "accelerator": "GPU"
 },
 "cells": [
  {
   "metadata": {},
   "cell_type": "code",
   "outputs": [],
   "execution_count": null,
   "source": "!nvidia-smi"
  },
  {
   "metadata": {},
   "cell_type": "code",
   "outputs": [],
   "execution_count": null,
   "source": [
    "import subprocess\n",
    "import sys\n",
    "\n",
    "try:\n",
    "    subprocess.check_output('conda --version', stderr=subprocess.STDOUT, shell=True)\n",
    "    print(\"Conda is already installed.\")\n",
    "except subprocess.CalledProcessError:\n",
    "    print(\"Conda is not installed, installing condacolab...\")\n",
    "    !pip install -q condacolab\n",
    "    import condacolab\n",
    "    condacolab.install()"
   ]
  },
  {
   "cell_type": "code",
   "source": [
    "!conda install python=3.10.* -y\n",
    "!apt update && apt install -y libgl1-mesa-glx\n",
    "\n",
    "# install vapoursynth\n",
    "!conda install conda-forge::vapoursynth=69 -y\n",
    "\n",
    "# install vapoursynth C++ plugins\n",
    "!conda install -n base libarchive -c main --force-reinstall -y\n",
    "!conda install tongyuantongyu::vapoursynth-bestsource=5 -y\n",
    "!conda install tongyuantongyu::vapoursynth-fmtconv=30 -y\n",
    "\n",
    "# install vapoursynth python plugins\n",
    "!conda install tongyuantongyu::vapoursynth-mvsfunc=10.10 -y\n",
    "!conda install tongyuantongyu::vapoursynth-vsutil=0.8.0 -y\n",
    "!pip install git+https://github.com/HomeOfVapourSynthEvolution/havsfunc.git\n",
    "\n",
    "# install python packages\n",
    "!pip install numpy==1.26.4\n",
    "!pip install opencv-python==4.10.0.82\n",
    "\n",
    "# install PyTorch\n",
    "!pip install torch torchvision torchaudio --index-url https://download.pytorch.org/whl/cu118\n",
    "\n",
    "# install AI packages\n",
    "!pip install vsrealesrgan\n",
    "!python -m vsrealesrgan"
   ],
   "metadata": {
    "colab": {
     "base_uri": "https://localhost:8080/"
    },
    "collapsed": true,
    "id": "K-5--WXCX1Lb",
    "outputId": "53043cb3-f285-4d72-acbd-9154bc057d1e"
   },
   "outputs": [],
   "execution_count": null
  },
  {
   "cell_type": "code",
   "source": [
    "!wget -c https://go.dev/dl/go1.22.5.linux-amd64.tar.gz\n",
    "!tar -C /usr/local/ -xzf go1.22.5.linux-amd64.tar.gz\n",
    "!rm -rf go1.22.5.linux-amd64.tar.gz\n",
    "import os\n",
    "os.environ['PATH'] += \":/usr/local/go/bin\"\n",
    "!go version"
   ],
   "metadata": {
    "colab": {
     "base_uri": "https://localhost:8080/"
    },
    "collapsed": true,
    "id": "S_A8tfcobK89",
    "outputId": "9339c34e-b879-4898-d9ec-c1d170d53d60"
   },
   "outputs": [],
   "execution_count": null
  },
  {
   "cell_type": "code",
   "source": [
    "!rm -rf FinalRip\n",
    "!git clone https://github.com/TensoRaws/FinalRip\n",
    "!cd FinalRip && make worker"
   ],
   "metadata": {
    "colab": {
     "base_uri": "https://localhost:8080/"
    },
    "id": "vqgJnDiefPja",
    "outputId": "c2b97cfe-9fdf-48ca-ef67-1ec83f32a674"
   },
   "outputs": [],
   "execution_count": null
  },
  {
   "cell_type": "code",
   "source": [
    "import os\n",
    "os.environ['FINALRIP_REMOTE_CONFIG_HOST'] = \"consul.homo.com\"\n",
    "\n",
    "!cd FinalRip && ./worker/worker encode"
   ],
   "metadata": {
    "colab": {
     "base_uri": "https://localhost:8080/"
    },
    "id": "5Fqq6PVwg4Lw",
    "outputId": "db266556-4830-4ec1-a1a3-e80c6b661874"
   },
   "outputs": [],
   "execution_count": null
  }
 ]
}
